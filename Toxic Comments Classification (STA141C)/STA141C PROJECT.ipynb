{
 "cells": [
  {
   "cell_type": "code",
   "execution_count": 1,
   "metadata": {},
   "outputs": [],
   "source": [
    "import numpy as np \n",
    "import pandas as pd \n",
    "from sklearn.feature_extraction.text import CountVectorizer\n",
    "from sklearn.linear_model import LogisticRegression \n",
    "from sklearn.feature_extraction.text import TfidfVectorizer \n",
    "from sklearn.pipeline import make_union # combine vectors\n",
    "from sklearn.model_selection import cross_val_score # validate training data\n",
    "from nltk.stem.snowball import EnglishStemmer\n",
    "from sklearn.ensemble import RandomForestClassifier\n",
    "import matplotlib.pyplot as plt\n"
   ]
  },
  {
   "cell_type": "code",
   "execution_count": 2,
   "metadata": {},
   "outputs": [],
   "source": [
    "train_data = pd.read_csv('PROJ/train.csv')\n",
    "test_data = pd.read_csv('PROJ/test.csv')\n",
    "class_names = ['toxic', 'severe_toxic', 'obscene', 'threat', 'insult', 'identity_hate']"
   ]
  },
  {
   "cell_type": "code",
   "execution_count": 3,
   "metadata": {},
   "outputs": [],
   "source": [
    "train = train_data['comment_text']\n",
    "test = test_data['comment_text']"
   ]
  },
  {
   "cell_type": "code",
   "execution_count": 4,
   "metadata": {},
   "outputs": [
    {
     "data": {
      "text/plain": [
       "(array([0, 1, 2, 3, 4, 5]), <a list of 6 Text xticklabel objects>)"
      ]
     },
     "execution_count": 4,
     "metadata": {},
     "output_type": "execute_result"
    },
    {
     "data": {
      "image/png": "[encoded data removed]",
      "text/plain": [
       "<Figure size 432x288 with 1 Axes>"
      ]
     },
     "metadata": {
      "needs_background": "light"
     },
     "output_type": "display_data"
    }
   ],
   "source": [
    "toxic = len(train_data[train_data.toxic == 1])\n",
    "severe_toxic = len(train_data[train_data.severe_toxic == 1])\n",
    "obscene = len(train_data[train_data.obscene == 1])\n",
    "threat = len(train_data[train_data.threat == 1])\n",
    "insult = len(train_data[train_data.insult == 1])\n",
    "identity_hate = len(train_data[train_data.identity_hate == 1])\n",
    "count_array = [toxic,severe_toxic,obscene,threat,insult,identity_hate]\n",
    "\n",
    "\n",
    "score_df = pd.DataFrame(index=class_names)\n",
    "score_df['class'] = count_array\n",
    "freq_plot = score_df['class'].plot('bar')\n",
    "plt.title(\"Frequency of Each Toxicity\")\n",
    "plt.xlabel(\"Frequency\")\n",
    "plt.ylabel(\"Toxicity\")\n",
    "plt.xticks(rotation = 360)\n"
   ]
  },
  {
   "cell_type": "markdown",
   "metadata": {},
   "source": [
    "# ----------------------------------"
   ]
  },
  {
   "cell_type": "code",
   "execution_count": 5,
   "metadata": {},
   "outputs": [],
   "source": [
    "#Stemming using Snowball-English\n",
    "stemmer = EnglishStemmer()\n",
    "analyzer = TfidfVectorizer().build_analyzer()\n",
    "def stemmed_words(doc):\n",
    "    return (stemmer.stem(w) for w in analyzer(doc))\n",
    "#Vectorizer\n",
    "tfidf_vectorizer = TfidfVectorizer(\n",
    "    strip_accents='unicode',\n",
    "    analyzer=stemmed_words,\n",
    "    token_pattern='[a-z]{3, 15}',\n",
    "    ngram_range=(1, 2),\n",
    "    max_features=10000)\n",
    "\n",
    "vectorizer = tfidf_vectorizer\n",
    "\n",
    "vectorizer.fit(train)\n",
    "\n",
    "train_vec = vectorizer.transform(train)\n",
    "test_vec = vectorizer.transform(test)"
   ]
  },
  {
   "cell_type": "code",
   "execution_count": 6,
   "metadata": {},
   "outputs": [],
   "source": [
    "# Using LR to fit training set to calculate test set\n",
    "submission = pd.DataFrame.from_dict({'id': test_data['id']})\n",
    "for class_name in class_names:\n",
    "    train_target = train_data[class_name]\n",
    "    classifier = LogisticRegression(solver='lbfgs',max_iter=5000)\n",
    "\n",
    "    classifier.fit(train_vec, train_target)\n",
    "    submission[class_name] = classifier.predict_proba(test_vec)[:, 1]"
   ]
  },
  {
   "cell_type": "code",
   "execution_count": 7,
   "metadata": {},
   "outputs": [],
   "source": [
    "submission.to_csv('PROJ/submission_1.csv', index=False)\n",
    "# Result: 0.97609"
   ]
  },
  {
   "cell_type": "markdown",
   "metadata": {},
   "source": [
    "# -------------------------------------------"
   ]
  },
  {
   "cell_type": "code",
   "execution_count": 8,
   "metadata": {},
   "outputs": [],
   "source": [
    "# Vectorizer\n",
    "tfidf_vectorizer = TfidfVectorizer(\n",
    "    strip_accents='unicode',\n",
    "    analyzer= 'word',\n",
    "    token_pattern=r'\\w{1,}',\n",
    "    stop_words= 'english',\n",
    "    ngram_range=(1, 2),\n",
    "    max_features=10000)\n",
    "\n",
    "vectorizer = tfidf_vectorizer\n",
    "\n",
    "vectorizer.fit(train)\n",
    "\n",
    "train_vec = vectorizer.transform(train)\n",
    "test_vec = vectorizer.transform(test)"
   ]
  },
  {
   "cell_type": "code",
   "execution_count": 9,
   "metadata": {},
   "outputs": [],
   "source": [
    "# Using LR to fit training set to calculate test set\n",
    "submission2 = pd.DataFrame.from_dict({'id': test_data['id']})\n",
    "for class_name in class_names:\n",
    "    train_target = train_data[class_name]\n",
    "    classifier = LogisticRegression(solver='lbfgs',max_iter=5000)\n",
    "\n",
    "    classifier.fit(train_vec, train_target)\n",
    "    submission2[class_name] = classifier.predict_proba(test_vec)[:, 1]"
   ]
  },
  {
   "cell_type": "code",
   "execution_count": 10,
   "metadata": {},
   "outputs": [],
   "source": [
    "submission2.to_csv('PROJ/submission_2.csv', index=False)\n",
    "# Result: 0.97215"
   ]
  },
  {
   "cell_type": "markdown",
   "metadata": {},
   "source": [
    "# -------------------------------"
   ]
  },
  {
   "cell_type": "code",
   "execution_count": 11,
   "metadata": {},
   "outputs": [],
   "source": [
    "#Vectorizer\n",
    "tfidf_vectorizer = TfidfVectorizer(\n",
    "    #strip_accents='unicode',\n",
    "    #analyzer= 'word',\n",
    "    token_pattern=r'\\w{1,}'\n",
    "    #stop_words= 'english',\n",
    "    #ngram_range=(1, 2),\n",
    "    #max_features=10000)\n",
    ")\n",
    "\n",
    "vectorizer = tfidf_vectorizer\n",
    "\n",
    "vectorizer.fit(train)\n",
    "\n",
    "train_vec = vectorizer.transform(train)\n",
    "test_vec = vectorizer.transform(test)"
   ]
  },
  {
   "cell_type": "code",
   "execution_count": 12,
   "metadata": {},
   "outputs": [],
   "source": [
    "# Using LR to fit training set to calculate test set\n",
    "submission3 = pd.DataFrame.from_dict({'id': test_data['id']})\n",
    "for class_name in class_names:\n",
    "    train_target = train_data[class_name]\n",
    "    classifier = LogisticRegression(solver='lbfgs',max_iter=5000)\n",
    "    \n",
    "    classifier.fit(train_vec, train_target)\n",
    "    submission3[class_name] = classifier.predict_proba(test_vec)[:, 1]"
   ]
  },
  {
   "cell_type": "code",
   "execution_count": 13,
   "metadata": {},
   "outputs": [],
   "source": [
    "submission3.to_csv('PROJ/submission_3.csv', index=False)\n",
    "# Result: 0.97375"
   ]
  },
  {
   "cell_type": "markdown",
   "metadata": {},
   "source": [
    "# -----------------------------------"
   ]
  },
  {
   "cell_type": "code",
   "execution_count": 14,
   "metadata": {},
   "outputs": [],
   "source": [
    "all_comments = pd.concat([train,test])\n",
    "#Vectorizer\n",
    "tfidf_vectorizer_word = TfidfVectorizer(\n",
    "    strip_accents='unicode',\n",
    "    analyzer= 'word',\n",
    "    token_pattern=r'\\w{1,}',\n",
    "    stop_words= 'english',\n",
    "    ngram_range=(1, 1),\n",
    "    max_features=10000)\n",
    "\n",
    "tfidf_vectorizer_char = TfidfVectorizer(\n",
    "    strip_accents='unicode',\n",
    "    analyzer= 'char',\n",
    "    token_pattern=r'\\w{1,}',\n",
    "    stop_words= 'english',\n",
    "    ngram_range=(2, 6),\n",
    "    max_features=10000)\n",
    "\n",
    "# Combining two vectors\n",
    "vectorizer = make_union(tfidf_vectorizer_word,tfidf_vectorizer_char,n_jobs=3)\n",
    "\n",
    "vectorizer.fit(train)\n",
    "\n",
    "train_vec = vectorizer.transform(train)\n",
    "test_vec = vectorizer.transform(test)"
   ]
  },
  {
   "cell_type": "code",
   "execution_count": 15,
   "metadata": {},
   "outputs": [],
   "source": [
    "# Using LR to fit training set to calculate test set\n",
    "submission4 = pd.DataFrame.from_dict({'id': test_data['id']})\n",
    "for class_name in class_names:\n",
    "    train_target = train_data[class_name]\n",
    "    classifier = LogisticRegression(solver='lbfgs',max_iter=5000)  \n",
    "    \n",
    "    classifier.fit(train_vec, train_target)\n",
    "    submission4[class_name] = classifier.predict_proba(test_vec)[:, 1]\n"
   ]
  },
  {
   "cell_type": "code",
   "execution_count": 16,
   "metadata": {},
   "outputs": [],
   "source": [
    "submission4.to_csv('PROJ/submission_4.csv', index=False)\n",
    "#Result: 0.97624"
   ]
  },
  {
   "cell_type": "markdown",
   "metadata": {},
   "source": [
    "# ---------------------------------------------"
   ]
  },
  {
   "cell_type": "code",
   "execution_count": 18,
   "metadata": {},
   "outputs": [],
   "source": [
    "#Stemming\n",
    "stemmer = EnglishStemmer()\n",
    "analyzer = TfidfVectorizer().build_analyzer()\n",
    "def stemmed_words(doc):\n",
    "    return (stemmer.stem(w) for w in analyzer(doc))\n",
    "#Vectorizer\n",
    "tfidf_vectorizer = TfidfVectorizer(\n",
    "    strip_accents='unicode',\n",
    "    analyzer=stemmed_words,\n",
    "    token_pattern='[a-z]{3, 15}',\n",
    "    ngram_range=(1, 2),\n",
    "    max_features=10000)\n",
    "\n",
    "vectorizer = tfidf_vectorizer\n",
    "\n",
    "vectorizer.fit(train)\n",
    "\n",
    "train_vec = vectorizer.transform(train)\n",
    "test_vec = vectorizer.transform(test)"
   ]
  },
  {
   "cell_type": "code",
   "execution_count": 19,
   "metadata": {},
   "outputs": [],
   "source": [
    "# Using RF to fit training set to calculate test set\n",
    "submission5 = pd.DataFrame.from_dict({'id': test_data['id']})\n",
    "for class_name in class_names:\n",
    "    train_target = train_data[class_name]\n",
    "    classifier = RandomForestClassifier(bootstrap=True, criterion='gini', max_features=1000, random_state=None,n_estimators=10)\n",
    "\n",
    "    classifier.fit(train_vec, train_target)\n",
    "    submission5[class_name] = classifier.predict_proba(test_vec)[:, 1]\n"
   ]
  },
  {
   "cell_type": "code",
   "execution_count": 20,
   "metadata": {},
   "outputs": [],
   "source": [
    "submission5.to_csv('PROJ/submission_5.csv', index=False)\n",
    "# Test Result: 0.90573"
   ]
  },
  {
   "cell_type": "code",
   "execution_count": null,
   "metadata": {},
   "outputs": [],
   "source": []
  }
 ],
 "metadata": {
  "kernelspec": {
   "display_name": "Python 3",
   "language": "python",
   "name": "python3"
  },
  "language_info": {
   "codemirror_mode": {
    "name": "ipython",
    "version": 3
   },
   "file_extension": ".py",
   "mimetype": "text/x-python",
   "name": "python",
   "nbconvert_exporter": "python",
   "pygments_lexer": "ipython3",
   "version": "3.7.1"
  }
 },
 "nbformat": 4,
 "nbformat_minor": 2
}
